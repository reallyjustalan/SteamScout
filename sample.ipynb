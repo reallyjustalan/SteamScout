{
 "cells": [
  {
   "cell_type": "code",
   "execution_count": 6,
   "id": "875f76c2",
   "metadata": {},
   "outputs": [],
   "source": [
    "import pandas as pd\n",
    "import ast"
   ]
  },
  {
   "cell_type": "code",
   "execution_count": null,
   "id": "019e006b",
   "metadata": {},
   "outputs": [
    {
     "data": {
      "application/vnd.microsoft.datawrangler.viewer.v0+json": {
       "columns": [
        {
         "name": "index",
         "rawType": "int64",
         "type": "integer"
        },
        {
         "name": "steam_id",
         "rawType": "int64",
         "type": "integer"
        },
        {
         "name": "name",
         "rawType": "object",
         "type": "string"
        },
        {
         "name": "game_played_app_id",
         "rawType": "object",
         "type": "unknown"
        }
       ],
       "ref": "573c67eb-41a7-47e7-b0a0-b26780b97504",
       "rows": [
        [
         "0",
         "76561198058174816",
         "boi",
         null
        ],
        [
         "1",
         "76561198079886715",
         "kwangyy",
         null
        ],
        [
         "2",
         "76561198138611129",
         "good boy",
         null
        ],
        [
         "3",
         "76561198152763352",
         "fatrolls",
         null
        ],
        [
         "4",
         "76561198157969351",
         "Oynx",
         null
        ],
        [
         "5",
         "76561198158075658",
         "babadio af",
         null
        ],
        [
         "6",
         "76561198315082125",
         "Baba did the laundry",
         null
        ]
       ],
       "shape": {
        "columns": 3,
        "rows": 7
       }
      },
      "text/html": [
       "<div>\n",
       "<style scoped>\n",
       "    .dataframe tbody tr th:only-of-type {\n",
       "        vertical-align: middle;\n",
       "    }\n",
       "\n",
       "    .dataframe tbody tr th {\n",
       "        vertical-align: top;\n",
       "    }\n",
       "\n",
       "    .dataframe thead th {\n",
       "        text-align: right;\n",
       "    }\n",
       "</style>\n",
       "<table border=\"1\" class=\"dataframe\">\n",
       "  <thead>\n",
       "    <tr style=\"text-align: right;\">\n",
       "      <th></th>\n",
       "      <th>steam_id</th>\n",
       "      <th>name</th>\n",
       "      <th>game_played_app_id</th>\n",
       "    </tr>\n",
       "  </thead>\n",
       "  <tbody>\n",
       "    <tr>\n",
       "      <th>0</th>\n",
       "      <td>76561198058174816</td>\n",
       "      <td>boi</td>\n",
       "      <td>None</td>\n",
       "    </tr>\n",
       "    <tr>\n",
       "      <th>1</th>\n",
       "      <td>76561198079886715</td>\n",
       "      <td>kwangyy</td>\n",
       "      <td>None</td>\n",
       "    </tr>\n",
       "    <tr>\n",
       "      <th>2</th>\n",
       "      <td>76561198138611129</td>\n",
       "      <td>good boy</td>\n",
       "      <td>None</td>\n",
       "    </tr>\n",
       "    <tr>\n",
       "      <th>3</th>\n",
       "      <td>76561198152763352</td>\n",
       "      <td>fatrolls</td>\n",
       "      <td>None</td>\n",
       "    </tr>\n",
       "    <tr>\n",
       "      <th>4</th>\n",
       "      <td>76561198157969351</td>\n",
       "      <td>Oynx</td>\n",
       "      <td>None</td>\n",
       "    </tr>\n",
       "    <tr>\n",
       "      <th>5</th>\n",
       "      <td>76561198158075658</td>\n",
       "      <td>babadio af</td>\n",
       "      <td>None</td>\n",
       "    </tr>\n",
       "    <tr>\n",
       "      <th>6</th>\n",
       "      <td>76561198315082125</td>\n",
       "      <td>Baba did the laundry</td>\n",
       "      <td>None</td>\n",
       "    </tr>\n",
       "  </tbody>\n",
       "</table>\n",
       "</div>"
      ],
      "text/plain": [
       "            steam_id                  name game_played_app_id\n",
       "0  76561198058174816                   boi               None\n",
       "1  76561198079886715               kwangyy               None\n",
       "2  76561198138611129              good boy               None\n",
       "3  76561198152763352              fatrolls               None\n",
       "4  76561198157969351                  Oynx               None\n",
       "5  76561198158075658            babadio af               None\n",
       "6  76561198315082125  Baba did the laundry               None"
      ]
     },
     "execution_count": 19,
     "metadata": {},
     "output_type": "execute_result"
    }
   ],
   "source": [
    "df = pd.read_json(\"sample.json\")\n",
    "df = pd.json_normalize(df.all_users)\n"
   ]
  }
 ],
 "metadata": {
  "kernelspec": {
   "display_name": "steambot",
   "language": "python",
   "name": "python3"
  },
  "language_info": {
   "codemirror_mode": {
    "name": "ipython",
    "version": 3
   },
   "file_extension": ".py",
   "mimetype": "text/x-python",
   "name": "python",
   "nbconvert_exporter": "python",
   "pygments_lexer": "ipython3",
   "version": "3.13.3"
  }
 },
 "nbformat": 4,
 "nbformat_minor": 5
}
